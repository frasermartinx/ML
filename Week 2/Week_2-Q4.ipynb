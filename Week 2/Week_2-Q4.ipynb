{
 "cells": [
  {
   "cell_type": "code",
   "execution_count": 10,
   "metadata": {},
   "outputs": [],
   "source": [
    "#imports\n",
    "import pandas as pd\n",
    "\n",
    "data = pd.read_csv(\"../../messages.csv\", header = None)"
   ]
  },
  {
   "cell_type": "code",
   "execution_count": 11,
   "metadata": {},
   "outputs": [
    {
     "name": "stdout",
     "output_type": "stream",
     "text": [
      "             0                                                  1\n",
      "0     category                                               text\n",
      "1          ham  go jurong point crazi avail bugi n great world...\n",
      "2          ham                              ok lar joke wif u oni\n",
      "3         spam  free entri 2 wkli comp win fa cup final tkts 2...\n",
      "4          ham                  u dun say ear hor u c alreadi say\n",
      "...        ...                                                ...\n",
      "5568      spam  2nd time tri 2 contact u u å£750 pound prize 2...\n",
      "5569       ham                            ì b go esplanad fr home\n",
      "5570       ham                            piti mood soani suggest\n",
      "5571       ham  guy bitch act like id interest buy someth el n...\n",
      "5572       ham                                     rofl true name\n",
      "\n",
      "[5573 rows x 2 columns]\n"
     ]
    }
   ],
   "source": [
    "print(data)"
   ]
  }
 ],
 "metadata": {
  "kernelspec": {
   "display_name": "Venv",
   "language": "python",
   "name": "python3"
  },
  "language_info": {
   "codemirror_mode": {
    "name": "ipython",
    "version": 3
   },
   "file_extension": ".py",
   "mimetype": "text/x-python",
   "name": "python",
   "nbconvert_exporter": "python",
   "pygments_lexer": "ipython3",
   "version": "3.11.4"
  },
  "orig_nbformat": 4
 },
 "nbformat": 4,
 "nbformat_minor": 2
}
